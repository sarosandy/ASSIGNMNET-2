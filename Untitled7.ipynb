{
  "nbformat": 4,
  "nbformat_minor": 0,
  "metadata": {
    "colab": {
      "name": "Untitled7.ipynb",
      "provenance": []
    },
    "kernelspec": {
      "name": "python3",
      "display_name": "Python 3"
    },
    "language_info": {
      "name": "python"
    }
  },
  "cells": [
    {
      "cell_type": "code",
      "source": [
        "def last(n):\n",
        "    return n[-1]  \n",
        "\n",
        "tupList =[(5, 7), (2, 4), (20, 1), (5, 2)]\n",
        "sortedTupleList = sorted(tupList, key=last)\n",
        "\n",
        "print(\"List of Tuple after sorting : \" + str(sortedTupleList))"
      ],
      "metadata": {
        "colab": {
          "base_uri": "https://localhost:8080/"
        },
        "id": "GLbNtnMPtmoV",
        "outputId": "66d15bea-8259-47fd-c1f2-829574d96503"
      },
      "execution_count": 6,
      "outputs": [
        {
          "output_type": "stream",
          "name": "stdout",
          "text": [
            "List of Tuple after sorting : [(20, 1), (5, 2), (2, 4), (5, 7)]\n"
          ]
        }
      ]
    },
    {
      "cell_type": "code",
      "source": [
        ""
      ],
      "metadata": {
        "id": "GhE15J-8woLK"
      },
      "execution_count": null,
      "outputs": []
    }
  ]
}