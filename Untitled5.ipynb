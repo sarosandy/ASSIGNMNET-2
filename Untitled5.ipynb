{
  "nbformat": 4,
  "nbformat_minor": 0,
  "metadata": {
    "colab": {
      "name": "Untitled5.ipynb",
      "provenance": []
    },
    "kernelspec": {
      "name": "python3",
      "display_name": "Python 3"
    },
    "language_info": {
      "name": "python"
    }
  },
  "cells": [
    {
      "cell_type": "code",
      "execution_count": 1,
      "metadata": {
        "colab": {
          "base_uri": "https://localhost:8080/"
        },
        "id": "LO4sOxKqX-eU",
        "outputId": "318859b6-b536-4127-f84f-93f476980307"
      },
      "outputs": [
        {
          "output_type": "stream",
          "name": "stdout",
          "text": [
            "{'97': 'a', '98': 'b', '99': 'c', '100': 'd', '101': 'e', '102': 'f', '103': 'g', '104': 'h', '105': 'i', '106': 'j', '107': 'k', '108': 'l', '109': 'm', '110': 'n', '111': 'o', '112': 'p', '113': 'q', '114': 'r', '115': 's', '116': 't', '117': 'u', '118': 'v', '119': 'w', '120': 'x', '121': 'y', '122': 'z'}\n"
          ]
        }
      ],
      "source": [
        "alphabet = dict()\n",
        "x = range(97,123)\n",
        "for i in x:\n",
        "    alphabet[str(i)] = chr(i)\n",
        "print(alphabet)"
      ]
    },
    {
      "cell_type": "code",
      "source": [
        "for i in range(97,123):\n",
        "  print(\"alphabet= \" +chr(i) +   \" and the ASCII value= \"+str(i))"
      ],
      "metadata": {
        "colab": {
          "base_uri": "https://localhost:8080/"
        },
        "id": "uqp58csneOeI",
        "outputId": "91c02ec3-7cbb-482e-de7f-f6d3a6a73040"
      },
      "execution_count": 10,
      "outputs": [
        {
          "output_type": "stream",
          "name": "stdout",
          "text": [
            "alphabet= a and the ASCII value= 97\n",
            "alphabet= b and the ASCII value= 98\n",
            "alphabet= c and the ASCII value= 99\n",
            "alphabet= d and the ASCII value= 100\n",
            "alphabet= e and the ASCII value= 101\n",
            "alphabet= f and the ASCII value= 102\n",
            "alphabet= g and the ASCII value= 103\n",
            "alphabet= h and the ASCII value= 104\n",
            "alphabet= i and the ASCII value= 105\n",
            "alphabet= j and the ASCII value= 106\n",
            "alphabet= k and the ASCII value= 107\n",
            "alphabet= l and the ASCII value= 108\n",
            "alphabet= m and the ASCII value= 109\n",
            "alphabet= n and the ASCII value= 110\n",
            "alphabet= o and the ASCII value= 111\n",
            "alphabet= p and the ASCII value= 112\n",
            "alphabet= q and the ASCII value= 113\n",
            "alphabet= r and the ASCII value= 114\n",
            "alphabet= s and the ASCII value= 115\n",
            "alphabet= t and the ASCII value= 116\n",
            "alphabet= u and the ASCII value= 117\n",
            "alphabet= v and the ASCII value= 118\n",
            "alphabet= w and the ASCII value= 119\n",
            "alphabet= x and the ASCII value= 120\n",
            "alphabet= y and the ASCII value= 121\n",
            "alphabet= z and the ASCII value= 122\n"
          ]
        }
      ]
    },
    {
      "cell_type": "code",
      "source": [
        ""
      ],
      "metadata": {
        "id": "39_sCIClfkdX"
      },
      "execution_count": null,
      "outputs": []
    }
  ]
}